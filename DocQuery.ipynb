{
  "nbformat": 4,
  "nbformat_minor": 0,
  "metadata": {
    "colab": {
      "provenance": []
    },
    "kernelspec": {
      "name": "python3",
      "display_name": "Python 3"
    },
    "language_info": {
      "name": "python"
    },
    "accelerator": "GPU",
    "gpuClass": "standard"
  },
  "cells": [
    {
      "cell_type": "code",
      "execution_count": 2,
      "metadata": {
        "colab": {
          "base_uri": "https://localhost:8080/"
        },
        "id": "lI1kIqrzmCzG",
        "outputId": "4fd3e84e-3cb5-49b9-e3fd-c9b91de20055"
      },
      "outputs": [
        {
          "output_type": "stream",
          "name": "stdout",
          "text": [
            "Looking in indexes: https://pypi.org/simple, https://us-python.pkg.dev/colab-wheels/public/simple/\n",
            "Requirement already satisfied: docquery in /usr/local/lib/python3.7/dist-packages (0.0.5)\n",
            "Requirement already satisfied: pydantic in /usr/local/lib/python3.7/dist-packages (from docquery) (1.9.2)\n",
            "Requirement already satisfied: transformers>=4.21 in /usr/local/lib/python3.7/dist-packages (from docquery) (4.22.0.dev0)\n",
            "Requirement already satisfied: Pillow in /usr/local/lib/python3.7/dist-packages (from docquery) (9.2.0)\n",
            "Requirement already satisfied: requests in /usr/local/lib/python3.7/dist-packages (from docquery) (2.23.0)\n",
            "Requirement already satisfied: pytesseract in /usr/local/lib/python3.7/dist-packages (from docquery) (0.3.10)\n",
            "Requirement already satisfied: pdfplumber in /usr/local/lib/python3.7/dist-packages (from docquery) (0.7.4)\n",
            "Requirement already satisfied: pdf2image in /usr/local/lib/python3.7/dist-packages (from docquery) (1.16.0)\n",
            "Requirement already satisfied: torch>=1.0 in /usr/local/lib/python3.7/dist-packages (from docquery) (1.12.1+cu113)\n",
            "Requirement already satisfied: typing-extensions in /usr/local/lib/python3.7/dist-packages (from torch>=1.0->docquery) (4.1.1)\n",
            "Requirement already satisfied: packaging>=20.0 in /usr/local/lib/python3.7/dist-packages (from transformers>=4.21->docquery) (21.3)\n",
            "Requirement already satisfied: filelock in /usr/local/lib/python3.7/dist-packages (from transformers>=4.21->docquery) (3.8.0)\n",
            "Requirement already satisfied: pyyaml>=5.1 in /usr/local/lib/python3.7/dist-packages (from transformers>=4.21->docquery) (6.0)\n",
            "Requirement already satisfied: huggingface-hub<1.0,>=0.8.1 in /usr/local/lib/python3.7/dist-packages (from transformers>=4.21->docquery) (0.9.1)\n",
            "Requirement already satisfied: tokenizers!=0.11.3,<0.13,>=0.11.1 in /usr/local/lib/python3.7/dist-packages (from transformers>=4.21->docquery) (0.12.1)\n",
            "Requirement already satisfied: regex!=2019.12.17 in /usr/local/lib/python3.7/dist-packages (from transformers>=4.21->docquery) (2022.6.2)\n",
            "Requirement already satisfied: importlib-metadata in /usr/local/lib/python3.7/dist-packages (from transformers>=4.21->docquery) (4.12.0)\n",
            "Requirement already satisfied: tqdm>=4.27 in /usr/local/lib/python3.7/dist-packages (from transformers>=4.21->docquery) (4.64.0)\n",
            "Requirement already satisfied: numpy>=1.17 in /usr/local/lib/python3.7/dist-packages (from transformers>=4.21->docquery) (1.21.6)\n",
            "Requirement already satisfied: pyparsing!=3.0.5,>=2.0.2 in /usr/local/lib/python3.7/dist-packages (from packaging>=20.0->transformers>=4.21->docquery) (3.0.9)\n",
            "Requirement already satisfied: zipp>=0.5 in /usr/local/lib/python3.7/dist-packages (from importlib-metadata->transformers>=4.21->docquery) (3.8.1)\n",
            "Requirement already satisfied: Wand>=0.6.7 in /usr/local/lib/python3.7/dist-packages (from pdfplumber->docquery) (0.6.10)\n",
            "Requirement already satisfied: pdfminer.six==20220524 in /usr/local/lib/python3.7/dist-packages (from pdfplumber->docquery) (20220524)\n",
            "Requirement already satisfied: cryptography>=36.0.0 in /usr/local/lib/python3.7/dist-packages (from pdfminer.six==20220524->pdfplumber->docquery) (38.0.1)\n",
            "Requirement already satisfied: charset-normalizer>=2.0.0 in /usr/local/lib/python3.7/dist-packages (from pdfminer.six==20220524->pdfplumber->docquery) (2.1.1)\n",
            "Requirement already satisfied: cffi>=1.12 in /usr/local/lib/python3.7/dist-packages (from cryptography>=36.0.0->pdfminer.six==20220524->pdfplumber->docquery) (1.15.1)\n",
            "Requirement already satisfied: pycparser in /usr/local/lib/python3.7/dist-packages (from cffi>=1.12->cryptography>=36.0.0->pdfminer.six==20220524->pdfplumber->docquery) (2.21)\n",
            "Requirement already satisfied: idna<3,>=2.5 in /usr/local/lib/python3.7/dist-packages (from requests->docquery) (2.10)\n",
            "Requirement already satisfied: urllib3!=1.25.0,!=1.25.1,<1.26,>=1.21.1 in /usr/local/lib/python3.7/dist-packages (from requests->docquery) (1.24.3)\n",
            "Requirement already satisfied: certifi>=2017.4.17 in /usr/local/lib/python3.7/dist-packages (from requests->docquery) (2022.6.15)\n",
            "Requirement already satisfied: chardet<4,>=3.0.2 in /usr/local/lib/python3.7/dist-packages (from requests->docquery) (3.0.4)\n"
          ]
        }
      ],
      "source": [
        "!pip install docquery"
      ]
    },
    {
      "cell_type": "code",
      "source": [
        "!apt install tesseract-ocr"
      ],
      "metadata": {
        "colab": {
          "base_uri": "https://localhost:8080/"
        },
        "id": "O-gbrW7lmr8B",
        "outputId": "8a67c58d-83b2-4631-953b-31e8c5f7b42d"
      },
      "execution_count": 3,
      "outputs": [
        {
          "output_type": "stream",
          "name": "stdout",
          "text": [
            "Reading package lists... Done\n",
            "Building dependency tree       \n",
            "Reading state information... Done\n",
            "tesseract-ocr is already the newest version (4.00~git2288-10f4998a-2).\n",
            "The following package was automatically installed and is no longer required:\n",
            "  libnvidia-common-460\n",
            "Use 'apt autoremove' to remove it.\n",
            "0 upgraded, 0 newly installed, 0 to remove and 20 not upgraded.\n"
          ]
        }
      ]
    },
    {
      "cell_type": "code",
      "source": [
        "!docquery scan \"What is the invoice Total?\" https://templates.invoicehome.com/invoice-template-us-neat-750px.png"
      ],
      "metadata": {
        "colab": {
          "base_uri": "https://localhost:8080/"
        },
        "id": "M36GUPjBm7wM",
        "outputId": "4711d6ac-4713-49b8-c77c-869215417d85"
      },
      "execution_count": 6,
      "outputs": [
        {
          "output_type": "stream",
          "name": "stdout",
          "text": [
            "https://templates.invoicehome.com/invoice-template-us-neat-750px.png What is the invoice Total?: $154.06\n"
          ]
        }
      ]
    },
    {
      "cell_type": "code",
      "source": [
        "from docquery import document, pipeline\n",
        "p = pipeline.get_pipeline()\n",
        "doc = document.load_document(\"/content/invoice-pdf.png\")\n",
        "for q in [\"What is the invoice number?\", \"What is the invoice total?\"]:\n",
        "  print(q, p(question=q, **doc.context))"
      ],
      "metadata": {
        "colab": {
          "base_uri": "https://localhost:8080/"
        },
        "id": "50i9gwc2muBp",
        "outputId": "c08aa235-2d7d-4fb4-9abd-51b6745a7141"
      },
      "execution_count": 7,
      "outputs": [
        {
          "output_type": "stream",
          "name": "stdout",
          "text": [
            "What is the invoice number? {'score': 0.6591989994049072, 'answer': 'EVT-E5641596567812', 'start': 15, 'end': 15, 'page': 0}\n",
            "What is the invoice total? {'score': 0.9185163378715515, 'answer': '£1200.00', 'start': 29, 'end': 29, 'page': 0}\n"
          ]
        }
      ]
    },
    {
      "cell_type": "code",
      "source": [],
      "metadata": {
        "id": "93gfUAyaqKJW"
      },
      "execution_count": null,
      "outputs": []
    }
  ]
}